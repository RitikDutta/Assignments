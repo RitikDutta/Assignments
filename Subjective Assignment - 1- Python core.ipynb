{
 "cells": [
  {
   "cell_type": "markdown",
   "metadata": {},
   "source": [
    "Q1. Write a Python program to get the string from the given string where\n",
    "all the occurrence of its first char has been changed to '$,' except first\n",
    "char itself?\n",
    "\n",
    "    Sample String: 'prospect'\n",
    "    Expected Result : 'pros$ect'\n"
   ]
  },
  {
   "cell_type": "code",
   "execution_count": 26,
   "metadata": {},
   "outputs": [
    {
     "name": "stdout",
     "output_type": "stream",
     "text": [
      "pros$ect"
     ]
    }
   ],
   "source": [
    "name = 'prospect'\n",
    "c = name[0]\n",
    "for i in range(0, len(name)):\n",
    "    if name[i] == c and i!=0:\n",
    "        print('$', end='')\n",
    "    else:\n",
    "        print(name[i], end='')"
   ]
  },
  {
   "cell_type": "markdown",
   "metadata": {},
   "source": [
    "Q2. Write a Python program to get the single string from the two given\n",
    "strings, and separated by the space and swap the first two characters of\n",
    "each string?\n",
    "\n",
    "    Sample String : 'abc', 'xyz'.\n",
    "    Expected Result: 'xyc abz'"
   ]
  },
  {
   "cell_type": "code",
   "execution_count": 29,
   "metadata": {},
   "outputs": [
    {
     "name": "stdout",
     "output_type": "stream",
     "text": [
      "xyc abz\n"
     ]
    }
   ],
   "source": [
    "def chars_mix_up(a, b):\n",
    "  temp_a = b[:2] + a[2:]\n",
    "  temp_b = a[:2] + b[2:]\n",
    "\n",
    "  return temp_a + ' ' + temp_b\n",
    "print(chars_mix_up('abc', 'xyz'))"
   ]
  },
  {
   "cell_type": "markdown",
   "metadata": {},
   "source": [
    "Q3. Write the Python program to add 'ing' at the end of the given string\n",
    "(length of the string should be at least 3). If given string already ends\n",
    "with 'ing,' then add 'ly' instead. If string length of the given string is less\n",
    "than 3, leave it unchanged?\n",
    "\n",
    "\n",
    "    Sample string: ' abc '\n",
    "    Expected result: ' abcing '\n",
    "    Sample string: ' string '\n",
    "    Expected result: ' stringly '\n"
   ]
  },
  {
   "cell_type": "code",
   "execution_count": 31,
   "metadata": {},
   "outputs": [
    {
     "name": "stdout",
     "output_type": "stream",
     "text": [
      "Enter a String: support\n",
      "supporting\n"
     ]
    }
   ],
   "source": [
    "s = input(\"Enter a String: \")\n",
    "if len(s)>=3:\n",
    "    if s[-3:] == 'ing':\n",
    "        print(s+'ly')\n",
    "    else:\n",
    "        print(s+'ing')\n",
    "else:\n",
    "    print(s)"
   ]
  },
  {
   "cell_type": "markdown",
   "metadata": {},
   "source": [
    "Q4. Write the Python program to find the first appearance of the\n",
    "substring 'not' and 'poor' from the given string, if 'not' follows the 'poor',\n",
    "replace the whole 'not'...' poor' substring with 'good'.Return the resulting\n",
    "string.\n",
    "\n",
    "    Sample string: 'The lyrics are not that poor!'\n",
    "    'The lyrics are poor!'\n",
    "    Expected Result: 'The lyrics are good!'\n",
    "    'The lyrics are poor!'"
   ]
  },
  {
   "cell_type": "code",
   "execution_count": 32,
   "metadata": {},
   "outputs": [
    {
     "name": "stdout",
     "output_type": "stream",
     "text": [
      "The lyrics are good!\n",
      "The lyrics are poor!\n"
     ]
    }
   ],
   "source": [
    "def scheck(str1):\n",
    "    strnot = str1.find('not')\n",
    "    strpoor = str1.find('poor')\n",
    "    if strpoor > strnot and strnot>0:\n",
    "        str1 = str1.replace(str1[strnot:(strpoor+4)], 'good')\n",
    "        return(str1)\n",
    "    else:\n",
    "        return(str1)\n",
    "    \n",
    "print(scheck('The lyrics are not that poor!'))\n",
    "print(scheck('The lyrics are poor!'))"
   ]
  },
  {
   "cell_type": "markdown",
   "metadata": {},
   "source": [
    "Q5. Write the Python program to remove the characters which have odd\n",
    "index values of a given string."
   ]
  },
  {
   "cell_type": "code",
   "execution_count": 33,
   "metadata": {},
   "outputs": [
    {
     "name": "stdout",
     "output_type": "stream",
     "text": [
      "hlopto\n"
     ]
    }
   ],
   "source": [
    "str_test = 'hello python'\n",
    "temp = ''\n",
    "for i in range(0, len(str_test)):\n",
    "    if i%2 == 0:\n",
    "        temp = temp+str_test[i]\n",
    "print(temp)"
   ]
  },
  {
   "cell_type": "markdown",
   "metadata": {},
   "source": [
    "Q6. Write the python program to print the following floating numbers up\n",
    "to 2 decimal places?"
   ]
  },
  {
   "cell_type": "code",
   "execution_count": 34,
   "metadata": {},
   "outputs": [
    {
     "name": "stdout",
     "output_type": "stream",
     "text": [
      "3.24\n"
     ]
    }
   ],
   "source": [
    "float_no = 3.2434\n",
    "converted_no = \"{:.2f}\".format(float_no)\n",
    "print(converted_no)"
   ]
  },
  {
   "cell_type": "markdown",
   "metadata": {},
   "source": [
    "Q7. Write the Python program to format a number with a percentage?"
   ]
  },
  {
   "cell_type": "code",
   "execution_count": 35,
   "metadata": {},
   "outputs": [
    {
     "name": "stdout",
     "output_type": "stream",
     "text": [
      "Formatted number with percentage : 40.10%\n"
     ]
    }
   ],
   "source": [
    "number = 0.401\n",
    "print('Formatted number with percentage : {:.2%}'.format(number))"
   ]
  },
  {
   "cell_type": "markdown",
   "metadata": {},
   "source": [
    "Q8. Write the Python program to count occurrences of a substring in a\n",
    "String?"
   ]
  },
  {
   "cell_type": "code",
   "execution_count": 36,
   "metadata": {},
   "outputs": [
    {
     "name": "stdout",
     "output_type": "stream",
     "text": [
      "awesome occured 3 times\n"
     ]
    }
   ],
   "source": [
    "s = 'hello world python is awesome actually very awesome awesome'\n",
    "str_find = 'awesome'\n",
    "count = 0\n",
    "temp = ''\n",
    "for i in range(0, len(s)-len(str_find)+1):\n",
    "    temp = ''\n",
    "    for j in range(i, i+len(str_find)):\n",
    "        temp = temp+ s[j]\n",
    "    if temp == str_find:\n",
    "        count += 1\n",
    "        \n",
    "print(\"{} occured {} times\".format(str_find, count))"
   ]
  },
  {
   "cell_type": "markdown",
   "metadata": {},
   "source": [
    "Q9. Write the Python program to count repeated characters in a string.\n",
    "\n",
    "    Sample string: ' thequickbrownjumpsoverthelazydog '\n",
    "    \n",
    "    Expected output:\n",
    "    o 3\n",
    "    e 3\n",
    "    u 2\n",
    "    h 2\n",
    "    r 2\n",
    "    t 2"
   ]
  },
  {
   "cell_type": "code",
   "execution_count": 37,
   "metadata": {},
   "outputs": [
    {
     "name": "stdout",
     "output_type": "stream",
     "text": [
      "t 2\n",
      "h 2\n",
      "e 3\n",
      "u 2\n",
      "r 2\n",
      "o 3\n"
     ]
    }
   ],
   "source": [
    "st = 'thequickbrownjumpsoverthelazydog'\n",
    "repeated = ''\n",
    "for char in st:\n",
    "    flag = False\n",
    "    count = 0\n",
    "    for ch in repeated:\n",
    "        if char == ch:\n",
    "            flag = True\n",
    "    if flag == False:\n",
    "        for i in range(0, len(st)):\n",
    "            if char == st[i]:\n",
    "                repeated += char\n",
    "                count += 1\n",
    "    if count > 1:\n",
    "        print(\"{} {}\".format(char, count))"
   ]
  },
  {
   "cell_type": "markdown",
   "metadata": {},
   "source": [
    "Q10. Write the Python program to print the square and cube symbol in\n",
    "the area of a rectangle and volume of a cylinder?\n",
    "\n",
    "    Sample outputThe area of the rectangle is 1256.66cm2\n",
    "    The volume of the cylinder is 1254.725cm3\n"
   ]
  },
  {
   "cell_type": "code",
   "execution_count": 38,
   "metadata": {},
   "outputs": [
    {
     "name": "stdout",
     "output_type": "stream",
     "text": [
      "The area of the rectangle is 1256.66cm²\n",
      "The volume of the cylinder is 1254.725cm³\n"
     ]
    }
   ],
   "source": [
    "area = 1256.66\n",
    "volume = 1254.725\n",
    "print(\"The area of the rectangle is {}cm\\u00b2\".format(area, 2))\n",
    "print(\"The volume of the cylinder is {}cm\\u00b3\".format(volume, 3))"
   ]
  },
  {
   "cell_type": "markdown",
   "metadata": {},
   "source": [
    "Q11. Write the Python program to check if a string contains all letters of\n",
    "the alphabet?"
   ]
  },
  {
   "cell_type": "code",
   "execution_count": 39,
   "metadata": {},
   "outputs": [
    {
     "name": "stdout",
     "output_type": "stream",
     "text": [
      "String contain all alphabets\n"
     ]
    }
   ],
   "source": [
    "st = 'thequickbrownfoxjumpsoverthelazydog'\n",
    "alphabets = 'abcdefghijklmnopqrstuvwxyz'\n",
    "for char in alphabets:\n",
    "    flag = False\n",
    "    for ch in st:\n",
    "        if char == ch:\n",
    "#             print(ch, alphabets)\n",
    "            flag = True\n",
    "            break\n",
    "    if flag == False:\n",
    "        break\n",
    "if flag == False:\n",
    "    print(\"String does not contain all alphabets\")\n",
    "else:\n",
    "    print('String contain all alphabets')"
   ]
  },
  {
   "cell_type": "markdown",
   "metadata": {},
   "source": [
    "Q12. Write the Python program to find the second most repeated word\n",
    "in a given string?"
   ]
  },
  {
   "cell_type": "code",
   "execution_count": 24,
   "metadata": {},
   "outputs": [
    {
     "name": "stdout",
     "output_type": "stream",
     "text": [
      "second most repeated word is 'is' which repeated 4 times\n"
     ]
    }
   ],
   "source": [
    "st = 'the of the the hello of the is hello one two three is of the is is'\n",
    "inputn = st.split()\n",
    "\n",
    "#for word counts\n",
    "\n",
    "word_repeated = ''\n",
    "count = 0\n",
    "word_index = []\n",
    "words = ''\n",
    "word_index.clear\n",
    "for i in range(0, len(inputn)):\n",
    "    flag = False\n",
    "    count = 0\n",
    "    word_repeated_list = word_repeated.split()\n",
    "    for word in word_repeated_list:\n",
    "#         print(word)\n",
    "        if inputn[i] == word:\n",
    "            flag = True\n",
    "    if flag == False:\n",
    "        for k in range(i+1, len(inputn)):\n",
    "            if inputn[i] == inputn[k]:\n",
    "                count += 1\n",
    "                word_repeated += inputn[i] + ' '\n",
    "        word_index.append(count+1)\n",
    "        words += inputn[i] + ' '\n",
    "#         print(inputn[i], count+1)\n",
    "\n",
    "#for checking second maximum\n",
    "\n",
    "a = 0\n",
    "b = 0\n",
    "for x in word_index:\n",
    "    if x > a:\n",
    "        a=x\n",
    "# print(a)\n",
    "for x in range(0, len(word_index)):\n",
    "    if word_index[x] > b and word_index[x] < a:\n",
    "        b = word_index[x]\n",
    "        index = x\n",
    "        \n",
    "words = words.split()\n",
    "print(\"second most repeated word is '{}' which repeated {} times\".format(words[index], b))"
   ]
  },
  {
   "cell_type": "markdown",
   "metadata": {},
   "source": [
    "Q13. Write the Python program to find the minimum window in the given\n",
    "string, which will contains all the characters of another given\n",
    "strings?\n",
    "\n",
    "    Example 1\n",
    "    Input : string1 = \" PRWSOERIUSFK \"\n",
    "    string2 = \" OSU \"\n",
    "    Output: Minimum window is \"OERIUS\""
   ]
  },
  {
   "cell_type": "code",
   "execution_count": 8,
   "metadata": {},
   "outputs": [
    {
     "name": "stdout",
     "output_type": "stream",
     "text": [
      "Minimum window is: USO\n"
     ]
    }
   ],
   "source": [
    "str1 = 'PRWSOERIUSOSUFK'\n",
    "str2 = 'OSU'\n",
    "y = 0\n",
    "for k in range(len(str1)):\n",
    "    for i in range(len(str1)):\n",
    "        if set(str1[i:i+k])>=set(str2) and y==0:\n",
    "            print('Minimum window is: %s' %str1[i:i+k])\n",
    "            y=1"
   ]
  },
  {
   "cell_type": "markdown",
   "metadata": {},
   "source": [
    "Q14. Write the Python program to count number of substrings from a\n",
    "given string of lowercase alphabets with exactly k distinct (given)\n",
    "characters?\n",
    "\n",
    "    Input a string (lowercase alphabets): wolf\n",
    "    Input k: 4\n",
    "    Number of substrings with exactly 4 distinct characters: 1"
   ]
  },
  {
   "cell_type": "code",
   "execution_count": 21,
   "metadata": {},
   "outputs": [
    {
     "name": "stdout",
     "output_type": "stream",
     "text": [
      "Number of substrings with exactly 4 distinct(different) characters : 1\n"
     ]
    }
   ],
   "source": [
    "#remove commented print to see all possible words  \n",
    "str1 = 'wolf'\n",
    "k=4\n",
    "word = ''\n",
    "for i in range(0, len(str1)-(k-1)):\n",
    "    for j in range(i, i+k):\n",
    "        word += str1[j]\n",
    "    word += ' '\n",
    "word_count = word.split()\n",
    "count=0\n",
    "for word_rep in word_count:  \n",
    "    flag = False\n",
    "    for i in range(0, len(word_rep)):\n",
    "        for j in range(i+1, len(word_rep)):\n",
    "            if(word_rep[i] == word_rep[j]):\n",
    "                flag = True\n",
    "                break\n",
    "        if flag:\n",
    "            break\n",
    "    if flag==False:\n",
    "#         print('founded ', word_rep)\n",
    "        count +=1\n",
    "print('Number of substrings with exactly {} distinct(different) characters : {}'.format(k, count))"
   ]
  },
  {
   "cell_type": "markdown",
   "metadata": {},
   "source": [
    "Q15. Write the Python program to count number of substrings with same\n",
    "first and last characters of the given string?\n",
    "\n",
    "    Input a string: abcd\n",
    "    4\n"
   ]
  },
  {
   "cell_type": "code",
   "execution_count": 25,
   "metadata": {},
   "outputs": [
    {
     "name": "stdout",
     "output_type": "stream",
     "text": [
      "4\n"
     ]
    }
   ],
   "source": [
    "#remove commented print to see all possible words  \n",
    "s = \"abcd\"\n",
    "words = ''\n",
    "for i in range(0, len(s)):\n",
    "#     words += s[i]\n",
    "#     words += ' '\n",
    "    for j in range(i, len(s)):\n",
    "        words += s[j]\n",
    "    words += ' '\n",
    "    for k in range(i, len(s)):\n",
    "        for j in range(i, k):\n",
    "            words += s[j]\n",
    "        words += ' '\n",
    "\n",
    "words_array = words.split()\n",
    "count=0\n",
    "for w in words_array:\n",
    "    if w[0] == w[-1]:\n",
    "        count +=1\n",
    "#         print(w)\n",
    "print(count)"
   ]
  },
  {
   "cell_type": "markdown",
   "metadata": {},
   "source": [
    "## Great Job!"
   ]
  }
 ],
 "metadata": {
  "kernelspec": {
   "display_name": "Python 3",
   "language": "python",
   "name": "python3"
  },
  "language_info": {
   "codemirror_mode": {
    "name": "ipython",
    "version": 3
   },
   "file_extension": ".py",
   "mimetype": "text/x-python",
   "name": "python",
   "nbconvert_exporter": "python",
   "pygments_lexer": "ipython3",
   "version": "3.7.4"
  }
 },
 "nbformat": 4,
 "nbformat_minor": 2
}
